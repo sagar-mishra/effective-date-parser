{
 "cells": [
  {
   "cell_type": "code",
   "execution_count": 2,
   "metadata": {},
   "outputs": [],
   "source": [
    "import sys\n",
    "sys.path.insert(0, r\"E:\\projects\\effective_date_parser\")"
   ]
  },
  {
   "cell_type": "code",
   "execution_count": 11,
   "metadata": {},
   "outputs": [],
   "source": [
    "import os\n",
    "import json\n",
    "import pandas as pd\n",
    "from pprint import pprint\n",
    "\n",
    "\n",
    "import config"
   ]
  },
  {
   "cell_type": "code",
   "execution_count": 5,
   "metadata": {},
   "outputs": [],
   "source": [
    "train_df = pd.read_csv(config.train_file)\n",
    "pred_df = pd.read_csv(config.pred_file)"
   ]
  },
  {
   "cell_type": "code",
   "execution_count": 6,
   "metadata": {},
   "outputs": [
    {
     "data": {
      "text/html": [
       "<div>\n",
       "<style scoped>\n",
       "    .dataframe tbody tr th:only-of-type {\n",
       "        vertical-align: middle;\n",
       "    }\n",
       "\n",
       "    .dataframe tbody tr th {\n",
       "        vertical-align: top;\n",
       "    }\n",
       "\n",
       "    .dataframe thead th {\n",
       "        text-align: right;\n",
       "    }\n",
       "</style>\n",
       "<table border=\"1\" class=\"dataframe\">\n",
       "  <thead>\n",
       "    <tr style=\"text-align: right;\">\n",
       "      <th></th>\n",
       "      <th>file</th>\n",
       "      <th>Start Date</th>\n",
       "      <th>Start Date-Answer</th>\n",
       "    </tr>\n",
       "  </thead>\n",
       "  <tbody>\n",
       "    <tr>\n",
       "      <th>0</th>\n",
       "      <td>CybergyHoldingsInc_20140520_10-Q_EX-10.27_8605...</td>\n",
       "      <td>['This agreement shall begin upon the date of ...</td>\n",
       "      <td>NaN</td>\n",
       "    </tr>\n",
       "    <tr>\n",
       "      <th>1</th>\n",
       "      <td>EuromediaHoldingsCorp_20070215_10SB12G_EX-10.B...</td>\n",
       "      <td>['July 11 , 2006']</td>\n",
       "      <td>07-11-2006</td>\n",
       "    </tr>\n",
       "    <tr>\n",
       "      <th>2</th>\n",
       "      <td>FulucaiProductionsLtd_20131223_10-Q_EX-10.9_83...</td>\n",
       "      <td>['November 15, 2012']</td>\n",
       "      <td>11/15/2012</td>\n",
       "    </tr>\n",
       "    <tr>\n",
       "      <th>3</th>\n",
       "      <td>GopageCorp_20140221_10-K_EX-10.1_8432966_EX-10...</td>\n",
       "      <td>['Feb 10, 2014']</td>\n",
       "      <td>02-10-2014</td>\n",
       "    </tr>\n",
       "    <tr>\n",
       "      <th>4</th>\n",
       "      <td>IdeanomicsInc_20160330_10-K_EX-10.26_9512211_E...</td>\n",
       "      <td>['December 21, 2015']</td>\n",
       "      <td>12/21/2015</td>\n",
       "    </tr>\n",
       "  </tbody>\n",
       "</table>\n",
       "</div>"
      ],
      "text/plain": [
       "                                                file  \\\n",
       "0  CybergyHoldingsInc_20140520_10-Q_EX-10.27_8605...   \n",
       "1  EuromediaHoldingsCorp_20070215_10SB12G_EX-10.B...   \n",
       "2  FulucaiProductionsLtd_20131223_10-Q_EX-10.9_83...   \n",
       "3  GopageCorp_20140221_10-K_EX-10.1_8432966_EX-10...   \n",
       "4  IdeanomicsInc_20160330_10-K_EX-10.26_9512211_E...   \n",
       "\n",
       "                                          Start Date Start Date-Answer  \n",
       "0  ['This agreement shall begin upon the date of ...               NaN  \n",
       "1                                 ['July 11 , 2006']        07-11-2006  \n",
       "2                              ['November 15, 2012']        11/15/2012  \n",
       "3                                   ['Feb 10, 2014']        02-10-2014  \n",
       "4                              ['December 21, 2015']        12/21/2015  "
      ]
     },
     "execution_count": 6,
     "metadata": {},
     "output_type": "execute_result"
    }
   ],
   "source": [
    "train_df.head()"
   ]
  },
  {
   "cell_type": "code",
   "execution_count": 7,
   "metadata": {},
   "outputs": [
    {
     "data": {
      "text/plain": [
       "file                   0\n",
       "Start Date             0\n",
       "Start Date-Answer    122\n",
       "dtype: int64"
      ]
     },
     "execution_count": 7,
     "metadata": {},
     "output_type": "execute_result"
    }
   ],
   "source": [
    "train_df.isna().sum()"
   ]
  },
  {
   "cell_type": "code",
   "execution_count": 8,
   "metadata": {},
   "outputs": [
    {
     "data": {
      "text/html": [
       "<div>\n",
       "<style scoped>\n",
       "    .dataframe tbody tr th:only-of-type {\n",
       "        vertical-align: middle;\n",
       "    }\n",
       "\n",
       "    .dataframe tbody tr th {\n",
       "        vertical-align: top;\n",
       "    }\n",
       "\n",
       "    .dataframe thead th {\n",
       "        text-align: right;\n",
       "    }\n",
       "</style>\n",
       "<table border=\"1\" class=\"dataframe\">\n",
       "  <thead>\n",
       "    <tr style=\"text-align: right;\">\n",
       "      <th></th>\n",
       "      <th>file</th>\n",
       "      <th>Start Date</th>\n",
       "      <th>Start Date-Answer</th>\n",
       "    </tr>\n",
       "  </thead>\n",
       "  <tbody>\n",
       "    <tr>\n",
       "      <th>0</th>\n",
       "      <td>CybergyHoldingsInc_20140520_10-Q_EX-10.27_8605...</td>\n",
       "      <td>['This agreement shall begin upon the date of ...</td>\n",
       "      <td></td>\n",
       "    </tr>\n",
       "    <tr>\n",
       "      <th>1</th>\n",
       "      <td>EuromediaHoldingsCorp_20070215_10SB12G_EX-10.B...</td>\n",
       "      <td>['July 11 , 2006']</td>\n",
       "      <td>07-11-2006</td>\n",
       "    </tr>\n",
       "    <tr>\n",
       "      <th>2</th>\n",
       "      <td>FulucaiProductionsLtd_20131223_10-Q_EX-10.9_83...</td>\n",
       "      <td>['November 15, 2012']</td>\n",
       "      <td>11/15/2012</td>\n",
       "    </tr>\n",
       "    <tr>\n",
       "      <th>3</th>\n",
       "      <td>GopageCorp_20140221_10-K_EX-10.1_8432966_EX-10...</td>\n",
       "      <td>['Feb 10, 2014']</td>\n",
       "      <td>02-10-2014</td>\n",
       "    </tr>\n",
       "    <tr>\n",
       "      <th>4</th>\n",
       "      <td>IdeanomicsInc_20160330_10-K_EX-10.26_9512211_E...</td>\n",
       "      <td>['December 21, 2015']</td>\n",
       "      <td>12/21/2015</td>\n",
       "    </tr>\n",
       "    <tr>\n",
       "      <th>...</th>\n",
       "      <td>...</td>\n",
       "      <td>...</td>\n",
       "      <td>...</td>\n",
       "    </tr>\n",
       "    <tr>\n",
       "      <th>404</th>\n",
       "      <td>NANOPHASETECHNOLOGIESCORP_11_01_2005-EX-99.1-D...</td>\n",
       "      <td>[]</td>\n",
       "      <td></td>\n",
       "    </tr>\n",
       "    <tr>\n",
       "      <th>405</th>\n",
       "      <td>OPTIMIZEDTRANSPORTATIONMANAGEMENT,INC_07_26_20...</td>\n",
       "      <td>['EFFECTIVE DATE:             The earlier of t...</td>\n",
       "      <td></td>\n",
       "    </tr>\n",
       "    <tr>\n",
       "      <th>406</th>\n",
       "      <td>VISIUMTECHNOLOGIES,INC_10_20_2004-EX-10.20-DIS...</td>\n",
       "      <td>['7th day of April, 2003']</td>\n",
       "      <td>04-07-2003</td>\n",
       "    </tr>\n",
       "    <tr>\n",
       "      <th>407</th>\n",
       "      <td>ENERGYXXILTD_05_08_2015-EX-10.13-Transportatio...</td>\n",
       "      <td>['March 11, 2015']</td>\n",
       "      <td>03-11-2015</td>\n",
       "    </tr>\n",
       "    <tr>\n",
       "      <th>408</th>\n",
       "      <td>ENTERPRISEPRODUCTSPARTNERSLP_07_08_1998-EX-10....</td>\n",
       "      <td>['June 1, 1998&lt;omitted&gt;This contract shall be ...</td>\n",
       "      <td>06-01-1998</td>\n",
       "    </tr>\n",
       "  </tbody>\n",
       "</table>\n",
       "<p>409 rows × 3 columns</p>\n",
       "</div>"
      ],
      "text/plain": [
       "                                                  file  \\\n",
       "0    CybergyHoldingsInc_20140520_10-Q_EX-10.27_8605...   \n",
       "1    EuromediaHoldingsCorp_20070215_10SB12G_EX-10.B...   \n",
       "2    FulucaiProductionsLtd_20131223_10-Q_EX-10.9_83...   \n",
       "3    GopageCorp_20140221_10-K_EX-10.1_8432966_EX-10...   \n",
       "4    IdeanomicsInc_20160330_10-K_EX-10.26_9512211_E...   \n",
       "..                                                 ...   \n",
       "404  NANOPHASETECHNOLOGIESCORP_11_01_2005-EX-99.1-D...   \n",
       "405  OPTIMIZEDTRANSPORTATIONMANAGEMENT,INC_07_26_20...   \n",
       "406  VISIUMTECHNOLOGIES,INC_10_20_2004-EX-10.20-DIS...   \n",
       "407  ENERGYXXILTD_05_08_2015-EX-10.13-Transportatio...   \n",
       "408  ENTERPRISEPRODUCTSPARTNERSLP_07_08_1998-EX-10....   \n",
       "\n",
       "                                            Start Date Start Date-Answer  \n",
       "0    ['This agreement shall begin upon the date of ...                    \n",
       "1                                   ['July 11 , 2006']        07-11-2006  \n",
       "2                                ['November 15, 2012']        11/15/2012  \n",
       "3                                     ['Feb 10, 2014']        02-10-2014  \n",
       "4                                ['December 21, 2015']        12/21/2015  \n",
       "..                                                 ...               ...  \n",
       "404                                                 []                    \n",
       "405  ['EFFECTIVE DATE:             The earlier of t...                    \n",
       "406                         ['7th day of April, 2003']        04-07-2003  \n",
       "407                                 ['March 11, 2015']        03-11-2015  \n",
       "408  ['June 1, 1998<omitted>This contract shall be ...        06-01-1998  \n",
       "\n",
       "[409 rows x 3 columns]"
      ]
     },
     "execution_count": 8,
     "metadata": {},
     "output_type": "execute_result"
    }
   ],
   "source": [
    "train_df.fillna('')"
   ]
  },
  {
   "cell_type": "code",
   "execution_count": 9,
   "metadata": {},
   "outputs": [],
   "source": [
    "train_data = []\n",
    "\n",
    "question_id = 1\n",
    "question = \"What is effective date?\"\n",
    "for index, row in train_df.iterrows():\n",
    "    try :\n",
    "        file_name = row[\"file\"]\n",
    "        name, ext = os.path.splitext(file_name)\n",
    "        txt_file = os.path.join(config.contracts_dir, name+\".txt\")\n",
    "        possible_ans = eval(row[\"Start Date\"])\n",
    "        actual_ans = row[\"Start Date-Answer\"]\n",
    "\n",
    "        if len(possible_ans) > 0:\n",
    "            possible_ans = possible_ans[0]\n",
    "        else:\n",
    "            possible_ans = \"\"\n",
    "\n",
    "        data_dict = dict()\n",
    "        \n",
    "        with open(txt_file, encoding=\"utf8\") as f:\n",
    "            data = f.read()\n",
    "\n",
    "            data_dict[\"context\"] = data\n",
    "\n",
    "            qas_dict = dict()\n",
    "            qas_dict[\"question\"] = question\n",
    "            qas_dict[\"id\"] = question_id\n",
    "            question_id += 1\n",
    "            \n",
    "            answer_dict = dict()\n",
    "            if possible_ans != '' and actual_ans != '':\n",
    "                if possible_ans in data:\n",
    "                    answer_idx = data.find(possible_ans)\n",
    "                    is_impossible = False\n",
    "                    answer_dict = {\n",
    "                        \"text\" : possible_ans,\n",
    "                        \"answer_start\" : answer_idx\n",
    "                    }\n",
    "                else:\n",
    "                    is_impossible = True\n",
    "            else:\n",
    "                is_impossible = True\n",
    "\n",
    "            if is_impossible:\n",
    "                qas_dict[\"is_impossible\"] = is_impossible\n",
    "                qas_dict[\"answers\"] = []\n",
    "            else:\n",
    "                qas_dict[\"is_impossible\"] = is_impossible\n",
    "                qas_dict[\"answers\"] = [answer_dict]\n",
    "\n",
    "            data_dict[\"qas\"] = [qas_dict]\n",
    "        train_data.append(data_dict)\n",
    "    except:\n",
    "        pass"
   ]
  },
  {
   "cell_type": "code",
   "execution_count": 12,
   "metadata": {},
   "outputs": [],
   "source": [
    "with open(config.processed_train_file,\"w+\") as f:\n",
    "    json.dump(train_data,f)"
   ]
  },
  {
   "cell_type": "markdown",
   "metadata": {},
   "source": [
    "<h2> Creating test data </h2>"
   ]
  },
  {
   "cell_type": "code",
   "execution_count": 13,
   "metadata": {},
   "outputs": [],
   "source": [
    "test_data = []\n",
    "question_id = 1\n",
    "question = \"What is effective date?\"\n",
    "file_idx = []\n",
    "for index, row in pred_df.iterrows():\n",
    "    try:\n",
    "        file_name = row[\"file\"]\n",
    "        file_idx.append([file_name, question_id])\n",
    "        name, ext = os.path.splitext(file_name)\n",
    "        txt_file = os.path.join(config.contracts_dir, name+\".txt\")\n",
    "\n",
    "        data_dict = dict()\n",
    "        \n",
    "        with open(txt_file, encoding=\"utf8\") as f:\n",
    "            data = f.read()\n",
    "\n",
    "            data_dict[\"context\"] = data\n",
    "\n",
    "            qas_dict = dict()\n",
    "            qas_dict[\"question\"] = question\n",
    "            qas_dict[\"id\"] = question_id\n",
    "            question_id += 1\n",
    "\n",
    "            data_dict[\"qas\"] = [qas_dict]\n",
    "\n",
    "        test_data.append(data_dict)\n",
    "    except:\n",
    "        pass"
   ]
  },
  {
   "cell_type": "code",
   "execution_count": 15,
   "metadata": {},
   "outputs": [],
   "source": [
    "with open(config.processed_pred_file,\"w+\") as f:\n",
    "    json.dump(test_data,f)"
   ]
  },
  {
   "cell_type": "code",
   "execution_count": 17,
   "metadata": {},
   "outputs": [],
   "source": [
    "pd.DataFrame(file_idx, columns=[\"file_name\",\"id\"]).to_csv(config.file_id_csv,index=False)"
   ]
  },
  {
   "cell_type": "code",
   "execution_count": null,
   "metadata": {},
   "outputs": [],
   "source": []
  }
 ],
 "metadata": {
  "interpreter": {
   "hash": "017a464ff8e6a82b20b934a4be3ed61989109df2e66c7d2fdf64778a574fb684"
  },
  "kernelspec": {
   "display_name": "Python 3.7.11 64-bit ('effectivedateparserenv': conda)",
   "name": "python3"
  },
  "language_info": {
   "codemirror_mode": {
    "name": "ipython",
    "version": 3
   },
   "file_extension": ".py",
   "mimetype": "text/x-python",
   "name": "python",
   "nbconvert_exporter": "python",
   "pygments_lexer": "ipython3",
   "version": "3.7.11"
  },
  "orig_nbformat": 4
 },
 "nbformat": 4,
 "nbformat_minor": 2
}
